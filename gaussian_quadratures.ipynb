{
 "cells": [
  {
   "cell_type": "markdown",
   "metadata": {},
   "source": [
    "Newton-Cotes quadratures have a general form\n",
    "\n",
    "$$\n",
    "\\int_a^b \\! f(x)\\, dx \\approx \\sum_{k=1}^n w_k \\, f(x_k) \\;,\n",
    "$$\n",
    "\n",
    "with some nodes $x_k$ and weights $w_k$ adjusted so that a quadrature rule above *integrates polynomials exactly.*\n",
    "\n",
    "For instance, the center rectangle rule integrates linear functions, Simpson's formula integrates quadratic functions exactly etc.\n",
    "\n",
    "If the function $f(x)$ is not well approximated by a low-degree polynomial on the whole interval $(a, b)$, we split the interval into the smaller intervals. This way we end up with composite formulas with large $n$.\n",
    "\n",
    "**Question: ** can we select the nodes and weights in an optimal manner?"
   ]
  },
  {
   "cell_type": "markdown",
   "metadata": {},
   "source": [
    "## Gauss quadrature formulas"
   ]
  },
  {
   "cell_type": "markdown",
   "metadata": {},
   "source": [
    "Consider an integral of the form\n",
    "\n",
    "$$\n",
    "\\int_a^b f(x) \\, w(x) \\, dx\n",
    "$$\n",
    "\n",
    "with some *weight function* $w(x)$ which is $\\geq 0$ for all $x \\in (a, b)$. "
   ]
  },
  {
   "cell_type": "markdown",
   "metadata": {},
   "source": [
    "**Definition: ** A family of polynomials $p_n(x)$ is called orthogonal on $(a, b)$ with weight function $w(x)$ if\n",
    "\n",
    "$$\n",
    "\\int_a^b \\! p_m(x) \\, p_n(x)\\, w(x) \\, dx = 0\\;, \\qquad m \\neq n\n",
    "$$"
   ]
  },
  {
   "cell_type": "markdown",
   "metadata": {},
   "source": [
    "**The main result:** the ( $n$-point Gauss) quadrature rule\n",
    "\n",
    "$$\n",
    "\\int_a^b f(x) \\, w(x) \\, dx \\approx \\sum_{k=1}^n w_k \\, f(x_k)\n",
    "$$\n",
    "\n",
    "is **exact** for all $f(x)$ being polynomials of degree $\\leq 2n-1$, if\n",
    "\n",
    "- $\\{ x_k \\}$ are the roots of $p_n(x)$. \n",
    "\n",
    "    All roots of $p_n$ are simple and are located in $(a, b)$.\n",
    "    \n",
    "\n",
    "- The weights are chosen as\n",
    "\n",
    "$$\n",
    "w_k = \\int_a^b \\frac{p_n(x)}{(x - x_k) \\, p'_n(x)} \\, w(x) \\, dx\n",
    "$$\n",
    "\n"
   ]
  },
  {
   "cell_type": "markdown",
   "metadata": {},
   "source": [
    "## Example\n",
    "\n",
    "$$\n",
    "\\int_{-1}^{1}\\! \\frac{x^8\\, dx}{\\sqrt{1-x^2}}\n",
    "$$"
   ]
  },
  {
   "cell_type": "markdown",
   "metadata": {},
   "source": [
    "### Chebyshev polynomials of the 1st kind\n",
    "\n",
    "The weight function is\n",
    "\n",
    "$$\n",
    "w(x) = \\frac{1}{\\sqrt{1 - x^2}}\n",
    "$$\n",
    "\n",
    "for $x \\in (-1, 1)\\,.$"
   ]
  },
  {
   "cell_type": "markdown",
   "metadata": {},
   "source": [
    "The roots and weights are (Abramovitz and Stegun, 25.4.38, http://people.math.sfu.ca/~cbm/aands/page_889.htm):\n",
    "\n",
    "$$\n",
    "x_k = \\cos{\\left(\\pi\\frac{2k-1}{2n}\\right)} \\;,\n",
    "$$\n",
    "\n",
    "$$\n",
    "w_k = \\frac{\\pi}{n}\n",
    "$$\n",
    "\n",
    "for $\\qquad k = 1,\\dots, n.$"
   ]
  },
  {
   "cell_type": "code",
   "execution_count": 23,
   "metadata": {
    "collapsed": true
   },
   "outputs": [],
   "source": [
    "from math import pi, cos\n",
    "\n",
    "def cheb_nodes(n):\n",
    "    # NB: 1-based indexing, to match A&S!\n",
    "    xx = [(2.0*k-1.0) / (2.0*n) for k in range(1, n+1)]\n",
    "    return [cos(pi*x) for x in xx]\n",
    "\n",
    "def cheb_weights(n):\n",
    "    return pi / n\n"
   ]
  },
  {
   "cell_type": "code",
   "execution_count": 26,
   "metadata": {
    "collapsed": true
   },
   "outputs": [],
   "source": [
    "def f(x):\n",
    "    return x**8"
   ]
  },
  {
   "cell_type": "code",
   "execution_count": 35,
   "metadata": {},
   "outputs": [
    {
     "name": "stdout",
     "output_type": "stream",
     "text": [
      "3 0.6626797003665973\n",
      "4 0.8344855486097887\n",
      "5 0.8590292412159587\n",
      "6 0.8590292412159588\n",
      "7 0.8590292412159591\n",
      "8 0.859029241215959\n"
     ]
    }
   ],
   "source": [
    "for n in [3, 4, 5, 6, 7, 8]:\n",
    "    nodes = cheb_nodes(n)\n",
    "    wk = cheb_weights(n)\n",
    "    print(n, sum([wk * f(xk) for xk in nodes]))"
   ]
  },
  {
   "cell_type": "markdown",
   "metadata": {},
   "source": [
    "## Example\n",
    "\n",
    "$$\n",
    "\\int_{-1}^{1} x^8 \\sqrt{1- x^2} \\, dx =  ?\n",
    "$$\n",
    "\n",
    "*Hint:* use Chebyshev polynomials of the 2nd kind, A&S 25.4.40"
   ]
  },
  {
   "cell_type": "code",
   "execution_count": null,
   "metadata": {
    "collapsed": true
   },
   "outputs": [],
   "source": [
    "# enter your solution here"
   ]
  },
  {
   "cell_type": "markdown",
   "metadata": {},
   "source": [
    "## Classic orthogonal polynomials\n",
    "\n",
    "See http://dlmf.nist.gov/18.3 for a list."
   ]
  },
  {
   "cell_type": "markdown",
   "metadata": {},
   "source": [
    "Generally, there are no closed-form analytic formulas for the roots and weights. \n",
    "There are algorithms to compute them. Search keywords: Rodriguez formulas, Golub-Welsh algorithm."
   ]
  },
  {
   "cell_type": "markdown",
   "metadata": {},
   "source": [
    "## Using `scipy.special` for roots and weights\n",
    "\n",
    "https://docs.scipy.org/doc/scipy/reference/special.html, Sec *Orthogonal polynomials*"
   ]
  },
  {
   "cell_type": "code",
   "execution_count": 45,
   "metadata": {},
   "outputs": [],
   "source": [
    "# Chebyshev 1st kind, weights and nodes\n",
    "\n",
    "from scipy.special import t_roots\n",
    "nodes, weights = t_roots(4)"
   ]
  },
  {
   "cell_type": "code",
   "execution_count": 46,
   "metadata": {},
   "outputs": [
    {
     "data": {
      "text/plain": [
       "(array([-0.92387953, -0.38268343,  0.38268343,  0.92387953]),\n",
       " array([ 0.78539816,  0.78539816,  0.78539816,  0.78539816]))"
      ]
     },
     "execution_count": 46,
     "metadata": {},
     "output_type": "execute_result"
    }
   ],
   "source": [
    "nodes, weights"
   ]
  },
  {
   "cell_type": "code",
   "execution_count": 49,
   "metadata": {},
   "outputs": [
    {
     "data": {
      "text/plain": [
       "[0.9238795325112867,\n",
       " 0.38268343236508984,\n",
       " -0.3826834323650897,\n",
       " -0.9238795325112867]"
      ]
     },
     "execution_count": 49,
     "metadata": {},
     "output_type": "execute_result"
    }
   ],
   "source": [
    "# compare:\n",
    "\n",
    "cheb_nodes(4)"
   ]
  },
  {
   "cell_type": "markdown",
   "metadata": {},
   "source": [
    "Here's a shorter way of computing $$\\int_{-1}^{1} \\frac{f(x)}{\\sqrt{1 - x^2}}\\, dx $$"
   ]
  },
  {
   "cell_type": "code",
   "execution_count": 48,
   "metadata": {},
   "outputs": [
    {
     "data": {
      "text/plain": [
       "0.83448554860978874"
      ]
     },
     "execution_count": 48,
     "metadata": {},
     "output_type": "execute_result"
    }
   ],
   "source": [
    "(f(nodes) * weights).sum()"
   ]
  }
 ],
 "metadata": {
  "kernelspec": {
   "display_name": "Python 3",
   "language": "python",
   "name": "python3"
  },
  "language_info": {
   "codemirror_mode": {
    "name": "ipython",
    "version": 3
   },
   "file_extension": ".py",
   "mimetype": "text/x-python",
   "name": "python",
   "nbconvert_exporter": "python",
   "pygments_lexer": "ipython3",
   "version": "3.5.2"
  }
 },
 "nbformat": 4,
 "nbformat_minor": 1
}

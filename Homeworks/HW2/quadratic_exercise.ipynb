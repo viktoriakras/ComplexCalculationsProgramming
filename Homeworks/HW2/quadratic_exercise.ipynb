{
 "cells": [
  {
   "cell_type": "markdown",
   "metadata": {},
   "source": [
    "## Solve a quadratic equation, $x^2 + b x + c = 0$."
   ]
  },
  {
   "cell_type": "code",
   "execution_count": 6,
   "metadata": {},
   "outputs": [],
   "source": [
    "from math import sqrt"
   ]
  },
  {
   "cell_type": "code",
   "execution_count": 11,
   "metadata": {},
   "outputs": [],
   "source": [
    "\n",
    "def solve_quad(b, c):\n",
    "    \"\"\"Solve a quadratic equation, x**2 + bx + c = 0.\n",
    "    \"\"\"\n",
    "    b = float(b)\n",
    "    c = float(c)\n",
    "    D = b**2-4*c \n",
    "    if b == 0 and c == 0:\n",
    "        return (0, 0)\n",
    "    elif (sqrt(abs(D))==abs(b)): \n",
    "        return(-b,-c/b)\n",
    "    else:\n",
    "        if D > 0:\n",
    "            x1 = float(-b/2+sqrt(D/4))\n",
    "            x2 = float(-b/2-sqrt(D/4))\n",
    "        elif D == 0:\n",
    "            x1 = float(-b/(2))\n",
    "            x2 = x1\n",
    "        elif D < 0:\n",
    "            x1 = (-b/2+1j*sqrt(abs(D/4)))\n",
    "            x2 = (-b/2-1j*sqrt(abs(D/4)))\n",
    "        return x1, x2"
   ]
  },
  {
   "cell_type": "markdown",
   "metadata": {},
   "source": [
    "Test the function"
   ]
  },
  {
   "cell_type": "code",
   "execution_count": 70,
   "metadata": {},
   "outputs": [],
   "source": [
    "from numpy import allclose"
   ]
  },
  {
   "cell_type": "code",
   "execution_count": 3,
   "metadata": {},
   "outputs": [],
   "source": [
    "variants = [{'b': 4.0, 'c': 3.0},\n",
    "            {'b': 2.0, 'c': 1.0},\n",
    "            {'b': 0.5, 'c': 4.0},\n",
    "            {'b': 1e10, 'c': 3.0},\n",
    "            {'b': -1e10, 'c': 4.0},]"
   ]
  },
  {
   "cell_type": "code",
   "execution_count": 12,
   "metadata": {},
   "outputs": [
    {
     "name": "stdout",
     "output_type": "stream",
     "text": [
      "(-1.0, -3.0)\n",
      "(-1.0, -1.0)\n",
      "((-0.25+1.984313483298443j), (-0.25-1.984313483298443j))\n",
      "(-10000000000.0, -3e-10)\n",
      "(10000000000.0, 4e-10)\n"
     ]
    }
   ],
   "source": [
    "for var in variants:\n",
    "     print(solve_quad(**var))"
   ]
  },
  {
   "cell_type": "code",
   "execution_count": null,
   "metadata": {},
   "outputs": [],
   "source": []
  },
  {
   "cell_type": "code",
   "execution_count": 8,
   "metadata": {},
   "outputs": [],
   "source": [
    "\n",
    "def solve_quad1(b, c):\n",
    "    \"\"\"Solve a quadratic equation, x**2 + bx + c = 0.\n",
    "    \"\"\"\n",
    "    b = float(b)\n",
    "    c = float(c)\n",
    "    D = b**2-4*c \n",
    "    if b == 0 and c == 0:\n",
    "        return (0, 0)\n",
    "    else:\n",
    "        if D > 0:\n",
    "            x1 = float(-b/2+sqrt(D/4))\n",
    "            x2 = float(-b/2-sqrt(D/4))\n",
    "        elif D == 0:\n",
    "            x1 = float(-b/(2))\n",
    "            x2 = x1\n",
    "        elif D < 0:\n",
    "            x1 = (-b/2+1j*sqrt(abs(D/4)))\n",
    "            x2 = (-b/2-1j*sqrt(abs(D/4)))\n",
    "        return x1, x2"
   ]
  },
  {
   "cell_type": "code",
   "execution_count": 9,
   "metadata": {},
   "outputs": [
    {
     "name": "stdout",
     "output_type": "stream",
     "text": [
      "(-1.0, -3.0)\n",
      "(-1.0, -1.0)\n",
      "((-0.25+1.984313483298443j), (-0.25-1.984313483298443j))\n",
      "(0.0, -10000000000.0)\n",
      "(10000000000.0, 0.0)\n"
     ]
    }
   ],
   "source": [
    "for var in variants:\n",
    "    print(solve_quad1(**var))"
   ]
  },
  {
   "cell_type": "code",
   "execution_count": null,
   "metadata": {},
   "outputs": [],
   "source": []
  }
 ],
 "metadata": {
  "kernelspec": {
   "display_name": "Python 3",
   "language": "python",
   "name": "python3"
  },
  "language_info": {
   "codemirror_mode": {
    "name": "ipython",
    "version": 3
   },
   "file_extension": ".py",
   "mimetype": "text/x-python",
   "name": "python",
   "nbconvert_exporter": "python",
   "pygments_lexer": "ipython3",
   "version": "3.6.5"
  }
 },
 "nbformat": 4,
 "nbformat_minor": 2
}

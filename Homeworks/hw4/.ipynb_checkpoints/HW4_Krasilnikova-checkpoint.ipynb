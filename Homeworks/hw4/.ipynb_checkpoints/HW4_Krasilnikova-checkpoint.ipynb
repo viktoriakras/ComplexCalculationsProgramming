{
 "cells": [
  {
   "cell_type": "markdown",
   "metadata": {},
   "source": [
    "# Excercises\n",
    "\n",
    "1. Implement integration over a rectangular domain with a double Legendre quadrature.\n",
    "2. Implement integration over a trangular domain with a mixed Legendre/Jacobi quadrature. \n",
    "\n",
    "3. Repeat the Buffon's needle experiment for a range of $N$. Study the convergence of the result to the correct answer. Compare your findings to the CLT prediction, the $\\sqrt{N}$ dependence.\n",
    "\n",
    "4. Generalize the Buffon's needle experiment to $d$ dimensions to compute the volume of a $d$-dimensional hypersphere.\n",
    "\n",
    "5. Use the Sobol sequence to calculate the value of\n",
    "$$\n",
    "\\iint\\limits_D e^{-(x^2 + y^2)} \\, dx\\, dy  \\;,\n",
    "$$\n",
    "where $D$ is the unit square. Compare to the exact answer (which can be expressed in terms of the error function).\n",
    "\n",
    "6. Generate variates from the distribution $w(x) \\propto \\sqrt{1 - x^2}$ on $x\\in (-1, 1)$ using the rejection method.\n",
    "\n",
    "7. Generate variates from the distribution $w(x) \\propto \\exp(-\\lambda x)$ on $x \\in [a, b]$."
   ]
  },
  {
   "cell_type": "code",
   "execution_count": 7,
   "metadata": {},
   "outputs": [],
   "source": [
    "import numpy as np\n",
    "from scipy.integrate import dblquad, tplquad, nquad\n",
    "import random\n",
    "import matplotlib.pyplot as plt\n",
    "import sobol_seq"
   ]
  },
  {
   "cell_type": "markdown",
   "metadata": {},
   "source": [
    "### Task 1.\n",
    "Implement integration over a rectangular domain with a double Legendre quadrature."
   ]
  },
  {
   "cell_type": "markdown",
   "metadata": {},
   "source": [
    "We will integrate function $2x + 5y^3 $ "
   ]
  },
  {
   "cell_type": "code",
   "execution_count": 3,
   "metadata": {},
   "outputs": [],
   "source": [
    "def f(x,y): \n",
    "    return 2*x + 5*y**3"
   ]
  },
  {
   "cell_type": "code",
   "execution_count": 6,
   "metadata": {},
   "outputs": [],
   "source": [
    "# integration over a rectangular domain with a double Legendre quadrature\n",
    "def double_legendre_quadrature(f, a1=0, b1=1, a2=0, b2=1, n=1000, m=1000):\n",
    "    integral = 0\n",
    "    dx = (b1 - a1) / n\n",
    "    dy = (b2 - a2) / m\n",
    "    for i in range(n):\n",
    "        for j in range(m):\n",
    "            x = a1 + (0.5 + i) * dx\n",
    "            y = a2 + (0.5 + j) * dy\n",
    "            integral += f(x,y) * dx * dy\n",
    "    return integral\n"
   ]
  },
  {
   "cell_type": "code",
   "execution_count": 10,
   "metadata": {},
   "outputs": [
    {
     "name": "stdout",
     "output_type": "stream",
     "text": [
      "Exact value of integral: 78.0\n",
      "Calculate with legendre qudrature value of integral: 77.9999699999997\n"
     ]
    }
   ],
   "source": [
    "a1,b1 = 0,3\n",
    "a2,b2 = 0,2\n",
    "\n",
    "calc = double_legendre_quadrature(f,a1,b1,a2,b2)\n",
    "exact = dblquad(f, a2, b2, lambda x : a1, lambda x : b1)[0]\n",
    "print ('Exact value of integral:', exact)\n",
    "print ('Calculate with legendre qudrature value of integral:', calc)"
   ]
  },
  {
   "cell_type": "markdown",
   "metadata": {},
   "source": [
    "### Task 5."
   ]
  },
  {
   "cell_type": "markdown",
   "metadata": {},
   "source": [
    "Use the Sobol sequence to calculate the value of\n",
    "$$\n",
    "\\iint\\limits_D e^{-(x^2 + y^2)} \\, dx\\, dy  \\;,\n",
    "$$\n",
    "where $D$ is the unit square. Compare to the exact answer (which can be expressed in terms of the error function)."
   ]
  },
  {
   "cell_type": "code",
   "execution_count": 1,
   "metadata": {},
   "outputs": [],
   "source": [
    "def f(x,y) :\n",
    "    return np.exp(-(x**2 + y**2))"
   ]
  },
  {
   "cell_type": "code",
   "execution_count": null,
   "metadata": {},
   "outputs": [],
   "source": []
  },
  {
   "cell_type": "code",
   "execution_count": 31,
   "metadata": {},
   "outputs": [],
   "source": [
    "def D(x, y, r):\n",
    "    return x*y < r\n",
    "\n",
    "def sobol_seq_integrate(f, n, r=1):\n",
    "    n = int(n)\n",
    "    x, y = sobol_seq.i4_sobol_generate(2, n).T\n",
    "    inside = D(x, y, r)\n",
    "    return np.sum(f(x[inside], y[inside]) / n)"
   ]
  },
  {
   "cell_type": "code",
   "execution_count": 34,
   "metadata": {},
   "outputs": [
    {
     "name": "stdout",
     "output_type": "stream",
     "text": [
      "Exact value of integral: 0.5577462853510337\n",
      "Calculate with legendre qudrature value of integral: 0.5579124217291692\n"
     ]
    }
   ],
   "source": [
    "a1,b1 = 0,1\n",
    "a2,b2 = 0,1\n",
    "\n",
    "calc = sobol_seq_integrate(f, 1000)\n",
    "exact = dblquad(f, a2, b2, lambda x : a1, lambda x : b1)[0]\n",
    "print ('Exact value of integral:', exact)\n",
    "print ('Calculate with Sobol sequence value of integral:', calc)"
   ]
  },
  {
   "cell_type": "code",
   "execution_count": null,
   "metadata": {},
   "outputs": [],
   "source": []
  }
 ],
 "metadata": {
  "kernelspec": {
   "display_name": "Python 3",
   "language": "python",
   "name": "python3"
  },
  "language_info": {
   "codemirror_mode": {
    "name": "ipython",
    "version": 3
   },
   "file_extension": ".py",
   "mimetype": "text/x-python",
   "name": "python",
   "nbconvert_exporter": "python",
   "pygments_lexer": "ipython3",
   "version": "3.6.5"
  }
 },
 "nbformat": 4,
 "nbformat_minor": 2
}

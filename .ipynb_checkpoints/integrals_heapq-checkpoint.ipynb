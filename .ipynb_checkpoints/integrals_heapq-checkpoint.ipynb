{
 "cells": [
  {
   "cell_type": "code",
   "execution_count": 1,
   "metadata": {
    "collapsed": true
   },
   "outputs": [],
   "source": [
    "import heapq\n",
    "\n",
    "# rect is (start, width)\n",
    "# queue element is (-weight, (start, width))\n",
    "\n",
    "def make_rect(a, b, f):\n",
    "    \"\"\"Make a rectangle for the interval [a, b].\"\"\"\n",
    "    rect = (a, b-a)\n",
    "    xm = a + rect[1] / 2.\n",
    "    return (-f(xm) * rect[1], rect)\n",
    "    \n",
    "    \n",
    "def adapt_rect(f, a, b, npts):\n",
    "    hp = []\n",
    "\n",
    "    # start from a single rectangle\n",
    "    item = make_rect(a, b, f)\n",
    "    heapq.heappush(hp, item)\n",
    "    \n",
    "    # loop\n",
    "    for _ in range(npts):\n",
    "        # get the largest one\n",
    "        w, (start, width) = heapq.heappop(hp)\n",
    "        \n",
    "        # and split it into two halves\n",
    "        c = start + width / 2.\n",
    "        \n",
    "        rect1 = make_rect(start, c, f)\n",
    "        rect2 = make_rect(c, start + width, f)\n",
    "        \n",
    "        heapq.heappush(hp, rect1)\n",
    "        heapq.heappush(hp, rect2)\n",
    "    \n",
    "    # collect the answer\n",
    "    return -sum(w for w, r in hp), hp"
   ]
  },
  {
   "cell_type": "code",
   "execution_count": 2,
   "metadata": {},
   "outputs": [
    {
     "name": "stdout",
     "output_type": "stream",
     "text": [
      "n, res =  5 0.955269838835\n",
      "n, res =  25 0.978671896243\n",
      "n, res =  125 0.995650200161\n",
      "n, res =  250 0.995949160479\n",
      "n, res =  500 0.996002789179\n",
      "n, res =  1000 0.999739161075\n",
      "n, res =  5000 0.999940521245\n"
     ]
    }
   ],
   "source": [
    "import numpy as np\n",
    "\n",
    "def f(x):\n",
    "    return np.exp(-x)\n",
    "a, b = 0, 20\n",
    "\n",
    "for n in (5, 25, 125, 250, 500, 1000, 5000):\n",
    "    res, lst = adapt_rect(f, a, b, n)\n",
    "    print ('n, res = ', n, res)"
   ]
  },
  {
   "cell_type": "code",
   "execution_count": 4,
   "metadata": {},
   "outputs": [
    {
     "name": "stdout",
     "output_type": "stream",
     "text": [
      "100 loops, best of 3: 7.82 ms per loop\n"
     ]
    }
   ],
   "source": [
    "%timeit adapt_rect(f, a, b, npts=1000)"
   ]
  },
  {
   "cell_type": "code",
   "execution_count": 5,
   "metadata": {
    "collapsed": true
   },
   "outputs": [],
   "source": [
    "def g(x):\n",
    "    return x**8 / np.sqrt(1 - x**2)"
   ]
  },
  {
   "cell_type": "code",
   "execution_count": 9,
   "metadata": {},
   "outputs": [
    {
     "name": "stdout",
     "output_type": "stream",
     "text": [
      "res =  0.31542253763    n =  5\n",
      "res =  0.41876992149    n =  25\n",
      "res =  0.431548270183    n =  125\n",
      "res =  0.853456716096    n =  250\n",
      "res =  0.856189395442    n =  500\n",
      "res =  0.857477568188    n =  1000\n",
      "res =  0.858326962935    n =  5000\n",
      "res =  0.858444420504    n =  10000\n"
     ]
    }
   ],
   "source": [
    "for n in (5, 25, 125, 250, 500, 1000, 5000, 10000):\n",
    "    res, lst = adapt_rect(g, -1, 1, n)\n",
    "    print ('res = ', res, '   n = ', n)"
   ]
  },
  {
   "cell_type": "code",
   "execution_count": 11,
   "metadata": {},
   "outputs": [
    {
     "data": {
      "text/plain": [
       "(0.8590292412132695, 1.1860301629695869e-10)"
      ]
     },
     "execution_count": 11,
     "metadata": {},
     "output_type": "execute_result"
    }
   ],
   "source": [
    "from scipy.integrate import quad\n",
    "\n",
    "quad(g, -1, 1)"
   ]
  },
  {
   "cell_type": "markdown",
   "metadata": {},
   "source": [
    "*Now check it on Wolfram Alpha.*"
   ]
  },
  {
   "cell_type": "code",
   "execution_count": null,
   "metadata": {
    "collapsed": true
   },
   "outputs": [],
   "source": []
  }
 ],
 "metadata": {
  "kernelspec": {
   "display_name": "Python 3",
   "language": "python",
   "name": "python3"
  },
  "language_info": {
   "codemirror_mode": {
    "name": "ipython",
    "version": 3
   },
   "file_extension": ".py",
   "mimetype": "text/x-python",
   "name": "python",
   "nbconvert_exporter": "python",
   "pygments_lexer": "ipython3",
   "version": "3.5.2"
  }
 },
 "nbformat": 4,
 "nbformat_minor": 1
}

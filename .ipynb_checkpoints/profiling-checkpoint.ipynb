{
 "cells": [
  {
   "cell_type": "markdown",
   "metadata": {},
   "source": [
    "# Program optimization\n",
    "\n",
    "So, you have a program, which implements an algorithm. It works. Results make sense. You have a suite of tests with reasonable coverage. \n",
    "\n",
    "The only *slight* problem is your program is slow. Sloth slow. You want to improve performance, i.e. optimize the program.\n",
    "\n",
    "\n",
    "**Fact:** Whenever you try to guess what is slow in your program, ** you guess wrong. **"
   ]
  },
  {
   "cell_type": "markdown",
   "metadata": {},
   "source": [
    "## The optimization loop\n",
    "\n",
    "1. Profile the program. Identify the hotspots.\n",
    "\n",
    "2. Optimize the bottleneck. *Only* touch the bottleneck, nothing else.\n",
    "\n",
    "3. Verify that the program still works (**tests!**)\n",
    "\n",
    "4. Measure the execution time. \n",
    "\n",
    "5. Goto 1."
   ]
  },
  {
   "cell_type": "markdown",
   "metadata": {},
   "source": [
    "## Profiling\n",
    "\n",
    "e.g. GNU `gprof`, `ccachegrind`, `google-perftools`, `yep`, ..."
   ]
  },
  {
   "cell_type": "markdown",
   "metadata": {},
   "source": [
    "In Python, use the `cProfile` module from the standard library for the function-level profiling. \n",
    "In Jupyter, there's a convenince magic, `%prun`."
   ]
  },
  {
   "cell_type": "markdown",
   "metadata": {},
   "source": [
    "As an example, we consider the adaptive integration scheme from a couple of weeks back."
   ]
  },
  {
   "cell_type": "code",
   "execution_count": 4,
   "metadata": {
    "collapsed": true
   },
   "outputs": [],
   "source": [
    "import numpy as np"
   ]
  },
  {
   "cell_type": "code",
   "execution_count": 1,
   "metadata": {
    "collapsed": true
   },
   "outputs": [],
   "source": [
    "# A rectangle is (start, width)\n",
    "# A list element is (-weight, (start, width))\n",
    "\n",
    "def make_rect(a, b, f):\n",
    "    \"\"\"Make a rectangle for the interval [a, b]\"\"\"\n",
    "    rect = (a, b-a)\n",
    "    xm = a + rect[1] / 2.\n",
    "    return (-f(xm) * rect[1], rect)\n",
    "    \n",
    "\n",
    "def get_max_elem(lst, key=None):\n",
    "    \"\"\"Find and remove the maximum element from the list.\n",
    "    \n",
    "    Find the max element (according to the parameter `key`,\n",
    "    which is a callable), remove it from the list, and\n",
    "    return both the element and the rest.\n",
    "    \"\"\"\n",
    "    if key is None:\n",
    "        # use the identity function\n",
    "        key = lambda x: x\n",
    "    \n",
    "    # find the max element\n",
    "    elem = max(lst, key=key)\n",
    "    \n",
    "    # find its position in the list\n",
    "    idx = lst.index(elem)\n",
    "    \n",
    "    return elem, lst[:idx] + lst[idx+1:]\n",
    "\n",
    "    \n",
    "def adapt_rect_list(f, a, b, npts):\n",
    "    \"\"\"Integrate f(x) from a to b using npts steps.\n",
    "    \n",
    "    Uses an adaptive algorithm.\n",
    "    \"\"\"\n",
    "    lst = []\n",
    "\n",
    "    # start from a single rectangle\n",
    "    item = make_rect(a, b, f)\n",
    "    lst.append(item)\n",
    "    \n",
    "    # loop\n",
    "    for _ in range(npts):\n",
    "        # get the largest one\n",
    "        rect, lst = get_max_elem(lst, lambda x: -x[0])\n",
    "        w, (start, width) = rect\n",
    "                \n",
    "        # and split it into two halves\n",
    "        c = start + width / 2.\n",
    "        \n",
    "        rect1 = make_rect(start, c, f)\n",
    "        rect2 = make_rect(c, start + width, f)\n",
    "        \n",
    "        lst.append(rect1)\n",
    "        lst.append(rect2)\n",
    "        \n",
    "    # collect the answer\n",
    "    return -sum(w for w, r in lst), lst"
   ]
  },
  {
   "cell_type": "code",
   "execution_count": 2,
   "metadata": {
    "collapsed": true
   },
   "outputs": [],
   "source": [
    "def func(x):\n",
    "    return np.tan(x) / (1.0 + np.exp(x))\n",
    "\n",
    "a, b = 0, 10"
   ]
  },
  {
   "cell_type": "code",
   "execution_count": 5,
   "metadata": {},
   "outputs": [
    {
     "name": "stdout",
     "output_type": "stream",
     "text": [
      " "
     ]
    }
   ],
   "source": [
    "# this opens a profile in the Jupyter's pager\n",
    "\n",
    "%prun adapt_rect_list(func, a, b, npts=1000)"
   ]
  },
  {
   "cell_type": "code",
   "execution_count": 7,
   "metadata": {},
   "outputs": [
    {
     "name": "stdout",
     "output_type": "stream",
     "text": [
      "          12552510 function calls in 5.036 seconds\n",
      "\n",
      "   Ordered by: internal time\n",
      "\n",
      "   ncalls  tottime  percall  cumtime  percall filename:lineno(function)\n",
      "     5000    3.198    0.001    4.711    0.001 {built-in method builtins.max}\n",
      " 12502500    1.513    0.000    1.513    0.000 <ipython-input-1-f0e5fa43cac1>:45(<lambda>)\n",
      "     5000    0.166    0.000    4.883    0.001 <ipython-input-1-f0e5fa43cac1>:11(get_max_elem)\n",
      "    10001    0.065    0.000    0.065    0.000 <ipython-input-2-617a020dccdd>:1(func)\n",
      "        1    0.064    0.064    5.036    5.036 <ipython-input-1-f0e5fa43cac1>:31(adapt_rect_list)\n",
      "    10001    0.017    0.000    0.083    0.000 <ipython-input-1-f0e5fa43cac1>:4(make_rect)\n",
      "     5000    0.006    0.000    0.006    0.000 {method 'index' of 'list' objects}\n",
      "    10001    0.004    0.000    0.004    0.000 {method 'append' of 'list' objects}\n",
      "        1    0.001    0.001    0.002    0.002 {built-in method builtins.sum}\n",
      "     5002    0.001    0.000    0.001    0.000 <ipython-input-1-f0e5fa43cac1>:58(<genexpr>)\n",
      "        1    0.001    0.001    5.036    5.036 <string>:1(<module>)\n",
      "        1    0.000    0.000    5.036    5.036 {built-in method builtins.exec}\n",
      "        1    0.000    0.000    0.000    0.000 {method 'disable' of '_lsprof.Profiler' objects}\n",
      "\n",
      "\n"
     ]
    },
    {
     "data": {
      "text/plain": [
       "<pstats.Stats at 0x7f068030c0b8>"
      ]
     },
     "execution_count": 7,
     "metadata": {},
     "output_type": "execute_result"
    }
   ],
   "source": [
    "# alternatively, save the `pstats.Stats` object and manipulate it \n",
    "\n",
    "stats = %prun -r -q adapt_rect_list(func, a, b, npts=5000)\n",
    "\n",
    "stats.print_stats(20)"
   ]
  },
  {
   "cell_type": "markdown",
   "metadata": {},
   "source": [
    "## Line level profiling"
   ]
  },
  {
   "cell_type": "markdown",
   "metadata": {},
   "source": [
    "In python land, use the `line_profiler` module. It's not in the standard library, so we need to install it. Open the `Anaconda prompt`, then type `conda install line_profiler`.\n",
    "\n",
    "If using `pip`, type `pip install line_profiler --user`.\n",
    "\n",
    "There also is an associated Jupyter magic. For using it outside of Jupyter, consult the [documentation: https://github.com/rkern/line_profiler.](https://github.com/rkern/line_profiler)"
   ]
  },
  {
   "cell_type": "code",
   "execution_count": 6,
   "metadata": {},
   "outputs": [],
   "source": [
    "%load_ext line_profiler"
   ]
  },
  {
   "cell_type": "code",
   "execution_count": 7,
   "metadata": {
    "collapsed": true
   },
   "outputs": [],
   "source": [
    "# note that we need to give it the name of the function to profile via a `-f` switch\n",
    "\n",
    "%lprun -f adapt_rect_list adapt_rect_list(func, a, b, 1000)"
   ]
  },
  {
   "cell_type": "code",
   "execution_count": 8,
   "metadata": {},
   "outputs": [
    {
     "name": "stdout",
     "output_type": "stream",
     "text": [
      "Timer unit: 1e-06 s\n",
      "\n",
      "Total time: 0.306119 s\n",
      "File: <ipython-input-2-f0e5fa43cac1>\n",
      "Function: adapt_rect_list at line 31\n",
      "\n",
      "Line #      Hits         Time  Per Hit   % Time  Line Contents\n",
      "==============================================================\n",
      "    31                                           def adapt_rect_list(f, a, b, npts):\n",
      "    32                                               \"\"\"Integrate f(x) from a to b using npts steps.\n",
      "    33                                               \n",
      "    34                                               Uses an adaptive algorithm.\n",
      "    35                                               \"\"\"\n",
      "    36         1            2      2.0      0.0      lst = []\n",
      "    37                                           \n",
      "    38                                               # start from a single rectangle\n",
      "    39         1           43     43.0      0.0      item = make_rect(a, b, f)\n",
      "    40         1            2      2.0      0.0      lst.append(item)\n",
      "    41                                               \n",
      "    42                                               # loop\n",
      "    43      1001         1202      1.2      0.4      for _ in range(npts):\n",
      "    44                                                   # get the largest one\n",
      "    45      1000       276126    276.1     90.2          rect, lst = get_max_elem(lst, lambda x: -x[0])\n",
      "    46      1000         1643      1.6      0.5          w, (start, width) = rect\n",
      "    47                                                           \n",
      "    48                                                   # and split it into two halves\n",
      "    49      1000         1492      1.5      0.5          c = start + width / 2.\n",
      "    50                                                   \n",
      "    51      1000        11662     11.7      3.8          rect1 = make_rect(start, c, f)\n",
      "    52      1000        10028     10.0      3.3          rect2 = make_rect(c, start + width, f)\n",
      "    53                                                   \n",
      "    54      1000         2124      2.1      0.7          lst.append(rect1)\n",
      "    55      1000         1361      1.4      0.4          lst.append(rect2)\n",
      "    56                                                   \n",
      "    57                                               # collect the answer\n",
      "    58         1          434    434.0      0.1      return -sum(w for w, r in lst), lst\n",
      "\n"
     ]
    }
   ],
   "source": [
    "# again, save the results object (via a `-r` switch)\n",
    "\n",
    "lstats = %lprun -r -f adapt_rect_list adapt_rect_list(func, a, b, 1000)\n",
    "\n",
    "lstats.print_stats()"
   ]
  },
  {
   "cell_type": "code",
   "execution_count": 9,
   "metadata": {},
   "outputs": [
    {
     "name": "stdout",
     "output_type": "stream",
     "text": [
      "Timer unit: 1e-06 s\n",
      "\n",
      "Total time: 0.287303 s\n",
      "File: <ipython-input-2-f0e5fa43cac1>\n",
      "Function: get_max_elem at line 11\n",
      "\n",
      "Line #      Hits         Time  Per Hit   % Time  Line Contents\n",
      "==============================================================\n",
      "    11                                           def get_max_elem(lst, key=None):\n",
      "    12                                               \"\"\"Find and remove the maximum element from the list.\n",
      "    13                                               \n",
      "    14                                               Find the max element (according to the parameter `key`,\n",
      "    15                                               which is a callable), remove it from the list, and\n",
      "    16                                               return both the element and the rest.\n",
      "    17                                               \"\"\"\n",
      "    18      1000         1220      1.2      0.4      if key is None:\n",
      "    19                                                   # use the identity function\n",
      "    20                                                   key = lambda x: x\n",
      "    21                                               \n",
      "    22                                               # find the max element\n",
      "    23      1000       276919    276.9     96.4      elem = max(lst, key=key)\n",
      "    24                                               \n",
      "    25                                               # find its position in the list\n",
      "    26      1000         2519      2.5      0.9      idx = lst.index(elem)\n",
      "    27                                               \n",
      "    28      1000         6645      6.6      2.3      return elem, lst[:idx] + lst[idx+1:]\n",
      "\n"
     ]
    }
   ],
   "source": [
    "# since we spend 90% of time in the `get_max_elem` function, profile it\n",
    "\n",
    "lstats = %lprun -r -f get_max_elem adapt_rect_list(func, a, b, 1000)\n",
    "\n",
    "lstats.print_stats()"
   ]
  },
  {
   "cell_type": "markdown",
   "metadata": {},
   "source": [
    "## The best optimization is often an algorithmic one\n",
    "\n",
    "We have already implemented an improved version of the adaptive integration, using a priority queue. Let's profile it."
   ]
  },
  {
   "cell_type": "code",
   "execution_count": 9,
   "metadata": {
    "collapsed": true
   },
   "outputs": [],
   "source": [
    "import heapq\n",
    "\n",
    "# rect is (start, width)\n",
    "# queue element is (-weight, (start, width))\n",
    "\n",
    "def make_rect(a, b, f):\n",
    "    \"\"\"Make a rectangle for the interval [a, b].\"\"\"\n",
    "    rect = (a, b-a)\n",
    "    xm = a + rect[1] / 2.\n",
    "    return (-f(xm) * rect[1], rect)\n",
    "    \n",
    "    \n",
    "def adapt_rect(f, a, b, npts):\n",
    "    hp = []\n",
    "\n",
    "    # start from a single rectangle\n",
    "    item = make_rect(a, b, f)\n",
    "    heapq.heappush(hp, item)\n",
    "    \n",
    "    # loop\n",
    "    for _ in range(npts):\n",
    "        # get the largest one\n",
    "        w, (start, width) = heapq.heappop(hp)\n",
    "        \n",
    "        # and split it into two halves\n",
    "        c = start + width / 2.\n",
    "        \n",
    "        rect1 = make_rect(start, c, f)\n",
    "        rect2 = make_rect(c, start + width, f)\n",
    "        \n",
    "        heapq.heappush(hp, rect1)\n",
    "        heapq.heappush(hp, rect2)\n",
    "    \n",
    "    # collect the answer\n",
    "    return -sum(w for w, r in hp), hp"
   ]
  },
  {
   "cell_type": "code",
   "execution_count": 10,
   "metadata": {},
   "outputs": [
    {
     "name": "stdout",
     "output_type": "stream",
     "text": [
      "          40010 function calls in 0.111 seconds\n",
      "\n",
      "   Ordered by: internal time\n",
      "\n",
      "   ncalls  tottime  percall  cumtime  percall filename:lineno(function)\n",
      "    10001    0.060    0.000    0.060    0.000 <ipython-input-2-617a020dccdd>:1(func)\n",
      "    10001    0.018    0.000    0.078    0.000 <ipython-input-9-a3d338d819a3>:6(make_rect)\n",
      "        1    0.017    0.017    0.110    0.110 <ipython-input-9-a3d338d819a3>:13(adapt_rect)\n",
      "     5000    0.010    0.000    0.010    0.000 {built-in method _heapq.heappop}\n",
      "    10001    0.004    0.000    0.004    0.000 {built-in method _heapq.heappush}\n",
      "        1    0.001    0.001    0.001    0.001 {built-in method builtins.sum}\n",
      "     5002    0.001    0.000    0.001    0.000 <ipython-input-9-a3d338d819a3>:35(<genexpr>)\n",
      "        1    0.000    0.000    0.111    0.111 <string>:1(<module>)\n",
      "        1    0.000    0.000    0.111    0.111 {built-in method builtins.exec}\n",
      "        1    0.000    0.000    0.000    0.000 {method 'disable' of '_lsprof.Profiler' objects}\n",
      "\n",
      "\n"
     ]
    },
    {
     "data": {
      "text/plain": [
       "<pstats.Stats at 0x7f0678042ba8>"
      ]
     },
     "execution_count": 10,
     "metadata": {},
     "output_type": "execute_result"
    }
   ],
   "source": [
    "stats = %prun -q -r adapt_rect(func, a, b, 5000)\n",
    "stats.print_stats(20)"
   ]
  },
  {
   "cell_type": "code",
   "execution_count": 12,
   "metadata": {},
   "outputs": [
    {
     "name": "stdout",
     "output_type": "stream",
     "text": [
      "Timer unit: 1e-06 s\n",
      "\n",
      "Total time: 0.048421 s\n",
      "File: <ipython-input-10-a3d338d819a3>\n",
      "Function: adapt_rect at line 13\n",
      "\n",
      "Line #      Hits         Time  Per Hit   % Time  Line Contents\n",
      "==============================================================\n",
      "    13                                           def adapt_rect(f, a, b, npts):\n",
      "    14         1            3      3.0      0.0      hp = []\n",
      "    15                                           \n",
      "    16                                               # start from a single rectangle\n",
      "    17         1           58     58.0      0.1      item = make_rect(a, b, f)\n",
      "    18         1            6      6.0      0.0      heapq.heappush(hp, item)\n",
      "    19                                               \n",
      "    20                                               # loop\n",
      "    21      1001         1633      1.6      3.4      for _ in range(npts):\n",
      "    22                                                   # get the largest one\n",
      "    23      1000         4732      4.7      9.8          w, (start, width) = heapq.heappop(hp)\n",
      "    24                                                   \n",
      "    25                                                   # and split it into two halves\n",
      "    26      1000         2317      2.3      4.8          c = start + width / 2.\n",
      "    27                                                   \n",
      "    28      1000        16573     16.6     34.2          rect1 = make_rect(start, c, f)\n",
      "    29      1000        16609     16.6     34.3          rect2 = make_rect(c, start + width, f)\n",
      "    30                                                   \n",
      "    31      1000         3223      3.2      6.7          heapq.heappush(hp, rect1)\n",
      "    32      1000         2730      2.7      5.6          heapq.heappush(hp, rect2)\n",
      "    33                                               \n",
      "    34                                               # collect the answer\n",
      "    35         1          537    537.0      1.1      return -sum(w for w, r in hp), hp\n",
      "\n"
     ]
    }
   ],
   "source": [
    "lstats = %lprun -r -f adapt_rect adapt_rect(func, a, b, 1000)\n",
    "lstats.print_stats()"
   ]
  },
  {
   "cell_type": "markdown",
   "metadata": {
    "collapsed": true
   },
   "source": [
    "## Further reading\n",
    "\n",
    "1. [cProfile] Doug Hellmann, *profile and pstats — Performance Analysis*, https://pymotw.com/3/profile/\n",
    "\n",
    "2. [line_profiler] Robert Kern, *Line profiler documentation*, https://github.com/rkern/line_profiler\n",
    "\n",
    "3. [yep] Fabian Pedregosa, *Profiling in Python*, http://www.slideshare.net/FabianPedregosa/profiling-in-python-54685566\n",
    "\n",
    "Note however that `yep` is reported to not work under Windows. However I personally have had a very good experience using it (on Linux systems) when writing extension modules in C/C++."
   ]
  },
  {
   "cell_type": "code",
   "execution_count": null,
   "metadata": {
    "collapsed": true
   },
   "outputs": [],
   "source": []
  }
 ],
 "metadata": {
  "kernelspec": {
   "display_name": "Python 3",
   "language": "python",
   "name": "python3"
  },
  "language_info": {
   "codemirror_mode": {
    "name": "ipython",
    "version": 3
   },
   "file_extension": ".py",
   "mimetype": "text/x-python",
   "name": "python",
   "nbconvert_exporter": "python",
   "pygments_lexer": "ipython3",
   "version": "3.5.2"
  }
 },
 "nbformat": 4,
 "nbformat_minor": 1
}
